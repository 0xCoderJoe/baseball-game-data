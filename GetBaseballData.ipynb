{
 "cells": [
  {
   "cell_type": "code",
   "execution_count": 23,
   "metadata": {},
   "outputs": [],
   "source": [
    "from pybaseball import schedule_and_record\n",
    "from pandasql import sqldf\n",
    "import pandas as pd\n",
    "import matplotlib.pyplot as plt\n",
    "import glob\n",
    "import os\n",
    "import warnings\n",
    "import random\n",
    "warnings.simplefilter(action='ignore', category=FutureWarning)\n",
    "\n",
    "REFRESH_DATA = 1\n",
    "DATA_DIR = \"2024_mlb_team_game_logs\""
   ]
  },
  {
   "cell_type": "markdown",
   "metadata": {},
   "source": [
    "First we define the list of MLB teams by three letter code on baseball-reference.com"
   ]
  },
  {
   "cell_type": "code",
   "execution_count": 24,
   "metadata": {},
   "outputs": [],
   "source": [
    "mlb_teams = [\n",
    "    \"BAL\", \"BOS\", \"CHW\", \"CLE\", \"DET\", \"HOU\", \"KC\", \"LAA\", \"MIN\", \"NYY\", \"OAK\", \"SEA\", \"TBR\", \"TEX\", \"TOR\",\n",
    "    \"ARI\", \"ATL\", \"CHC\", \"CIN\", \"COL\", \"MIA\", \"MIL\", \"NYM\", \"PHI\", \"PIT\", \"SDP\", \"SFG\", \"STL\", \"WSN\"\n",
    "]"
   ]
  },
  {
   "cell_type": "markdown",
   "metadata": {},
   "source": [
    "Next, we pull down fresh data locally to work with but only if we set REFRESH_DATA to True."
   ]
  },
  {
   "cell_type": "code",
   "execution_count": 25,
   "metadata": {},
   "outputs": [
    {
     "name": "stdout",
     "output_type": "stream",
     "text": [
      "http://www.baseball-reference.com/teams/BAL/2024-schedule-scores.shtml\n",
      "http://www.baseball-reference.com/teams/BOS/2024-schedule-scores.shtml\n",
      "http://www.baseball-reference.com/teams/CHW/2024-schedule-scores.shtml\n",
      "http://www.baseball-reference.com/teams/CLE/2024-schedule-scores.shtml\n",
      "http://www.baseball-reference.com/teams/DET/2024-schedule-scores.shtml\n",
      "http://www.baseball-reference.com/teams/HOU/2024-schedule-scores.shtml\n",
      "http://www.baseball-reference.com/teams/KC/2024-schedule-scores.shtml\n",
      "http://www.baseball-reference.com/teams/LAA/2024-schedule-scores.shtml\n",
      "http://www.baseball-reference.com/teams/MIN/2024-schedule-scores.shtml\n",
      "http://www.baseball-reference.com/teams/NYY/2024-schedule-scores.shtml\n",
      "http://www.baseball-reference.com/teams/OAK/2024-schedule-scores.shtml\n",
      "http://www.baseball-reference.com/teams/SEA/2024-schedule-scores.shtml\n",
      "http://www.baseball-reference.com/teams/TBR/2024-schedule-scores.shtml\n",
      "http://www.baseball-reference.com/teams/TEX/2024-schedule-scores.shtml\n",
      "http://www.baseball-reference.com/teams/TOR/2024-schedule-scores.shtml\n",
      "http://www.baseball-reference.com/teams/ARI/2024-schedule-scores.shtml\n",
      "http://www.baseball-reference.com/teams/ATL/2024-schedule-scores.shtml\n",
      "http://www.baseball-reference.com/teams/CHC/2024-schedule-scores.shtml\n",
      "http://www.baseball-reference.com/teams/CIN/2024-schedule-scores.shtml\n",
      "http://www.baseball-reference.com/teams/COL/2024-schedule-scores.shtml\n",
      "http://www.baseball-reference.com/teams/MIA/2024-schedule-scores.shtml\n",
      "http://www.baseball-reference.com/teams/MIL/2024-schedule-scores.shtml\n",
      "http://www.baseball-reference.com/teams/NYM/2024-schedule-scores.shtml\n",
      "http://www.baseball-reference.com/teams/PHI/2024-schedule-scores.shtml\n",
      "http://www.baseball-reference.com/teams/PIT/2024-schedule-scores.shtml\n",
      "http://www.baseball-reference.com/teams/SDP/2024-schedule-scores.shtml\n",
      "http://www.baseball-reference.com/teams/SFG/2024-schedule-scores.shtml\n",
      "http://www.baseball-reference.com/teams/STL/2024-schedule-scores.shtml\n",
      "http://www.baseball-reference.com/teams/WSN/2024-schedule-scores.shtml\n"
     ]
    }
   ],
   "source": [
    "if REFRESH_DATA == 1:\n",
    "    for team in mlb_teams:\n",
    "        data = schedule_and_record(2024, team)\n",
    "        data.to_csv(f\"{DATA_DIR}/{team}.csv\", sep=',', encoding=\"utf-8\")"
   ]
  },
  {
   "cell_type": "markdown",
   "metadata": {},
   "source": [
    "After, we read the databack in and prepare to shape it for our analysis"
   ]
  },
  {
   "cell_type": "code",
   "execution_count": 26,
   "metadata": {},
   "outputs": [],
   "source": [
    "\n",
    "path = f'{DATA_DIR}/' # use your path\n",
    "all_files = glob.glob(os.path.join(path , \"*.csv\"))\n",
    "\n",
    "li = []\n",
    "\n",
    "for filename in all_files:\n",
    "    df = pd.read_csv(filename, index_col=None, header=0)\n",
    "    li.append(df)\n",
    "\n",
    "df = pd.concat(li, axis=0, ignore_index=True)"
   ]
  },
  {
   "cell_type": "markdown",
   "metadata": {},
   "source": [
    "Drop all unceessary columns for our data application."
   ]
  },
  {
   "cell_type": "code",
   "execution_count": 27,
   "metadata": {},
   "outputs": [],
   "source": [
    "df = df.drop(columns=[\"Unnamed: 0\", \"GB\", \"Win\", \"Opp\", \"Loss\", \"RA\", \"Save\", \"W-L\", \"W/L\", \"D/N\", \"cLI\", \"Streak\",\"Rank\", \"Inn\", \"Orig. Scheduled\"])"
   ]
  },
  {
   "cell_type": "markdown",
   "metadata": {},
   "source": [
    "Locate all the duplicate entries since this is the output for all teams."
   ]
  },
  {
   "cell_type": "code",
   "execution_count": 28,
   "metadata": {},
   "outputs": [],
   "source": [
    "duplicates = df[df.duplicated(subset=['Date', 'Attendance'])]"
   ]
  },
  {
   "cell_type": "markdown",
   "metadata": {},
   "source": [
    "Now that we have our duplicate fields, we need to rename them and get them ready to merge back into `df`"
   ]
  },
  {
   "cell_type": "code",
   "execution_count": 29,
   "metadata": {},
   "outputs": [
    {
     "data": {
      "text/plain": [
       "(10416, 9)"
      ]
     },
     "execution_count": 29,
     "metadata": {},
     "output_type": "execute_result"
    }
   ],
   "source": [
    "master_set = pd.merge(df, duplicates, how=\"outer\", on=[\"Attendance\", \"Date\", \"Time\"])\n",
    "master_set.shape"
   ]
  },
  {
   "cell_type": "markdown",
   "metadata": {},
   "source": [
    "Perform cleanup actions on the newly merged data set."
   ]
  },
  {
   "cell_type": "code",
   "execution_count": 30,
   "metadata": {},
   "outputs": [],
   "source": [
    "master_set.drop(master_set.index[master_set['Tm_x'] == master_set['Tm_y']], inplace=True)\n",
    "master_set = master_set.dropna(subset=[\"Attendance\"])\n",
    "\n",
    "master_set['Total_Runs'] = master_set['R_x'] + master_set['R_y']\n",
    "\n",
    "master_set = master_set[['Date', 'Tm_x', 'Home_Away_x', 'R_x', 'Tm_y', 'Home_Away_y', 'R_y', 'Total_Runs', 'Time', 'Attendance']]\n",
    "master_set = master_set.sort_values(by=['Date'])\n",
    "master_set = master_set.reset_index(drop=True)"
   ]
  },
  {
   "cell_type": "markdown",
   "metadata": {},
   "source": [
    "Now that's great, lets create some graphs"
   ]
  },
  {
   "cell_type": "code",
   "execution_count": 31,
   "metadata": {},
   "outputs": [
    {
     "data": {
      "image/png": "[encoded data removed]",
      "text/plain": [
       "<Figure size 640x480 with 1 Axes>"
      ]
     },
     "metadata": {},
     "output_type": "display_data"
    }
   ],
   "source": [
    "\n",
    "ax = master_set['Total_Runs'].value_counts()\n",
    "ax = ax.sort_index()\n",
    "ax = ax.plot(kind='bar')"
   ]
  },
  {
   "cell_type": "markdown",
   "metadata": {},
   "source": [
    "At this point, we have enough data to determine what number of games have ended in each number of total runs. \n",
    "\n",
    "We will use the data to determine what we should statistically be betting in the Total Runs market (the over/under)."
   ]
  },
  {
   "cell_type": "code",
   "execution_count": 32,
   "metadata": {},
   "outputs": [
    {
     "name": "stdout",
     "output_type": "stream",
     "text": [
      "Percentage of games 1 runs or less: 1.64%\n",
      "Percentage of games 2 runs or less: 3.64%\n",
      "Percentage of games 3 runs or less: 9.95%\n",
      "Percentage of games 4 runs or less: 15.35%\n",
      "Percentage of games 5 runs or less: 26.18%\n",
      "Percentage of games 6 runs or less: 33.53%\n",
      "Percentage of games 7 runs or less: 45.16%\n",
      "Percentage of games 8 runs or less: 53.12%\n",
      "Percentage of games 9 runs or less: 63.63%\n",
      "Percentage of games 10 runs or less: 70.18%\n",
      "Percentage of games 11 runs or less: 77.50%\n",
      "Percentage of games 12 runs or less: 82.41%\n",
      "Percentage of games 13 runs or less: 88.69%\n",
      "Percentage of games 14 runs or less: 92.21%\n",
      "Percentage of games 15 runs or less: 94.68%\n",
      "Percentage of games 16 runs or less: 96.80%\n",
      "Percentage of games 17 runs or less: 98.56%\n",
      "Percentage of games 18 runs or less: 99.80%\n",
      "Percentage of games 19 runs or less: 100.60%\n",
      "Percentage of games 20 runs or less: 101.04%\n",
      "Percentage of games 21 runs or less: 101.44%\n",
      "Percentage of games 22 runs or less: 101.52%\n",
      "Percentage of games 23 runs or less: 101.72%\n",
      "Percentage of games 24 runs or less: 101.80%\n",
      "Percentage of games 25 runs or less: 101.92%\n",
      "Percentage of games 26 runs or less: 102.04%\n",
      "Percentage of games 27 runs or less: 102.12%\n",
      "Percentage of games 1 runs or more: 102.12%\n",
      "Percentage of games 2 runs or more: 100.48%\n",
      "Percentage of games 3 runs or more: 98.48%\n",
      "Percentage of games 4 runs or more: 92.17%\n",
      "Percentage of games 5 runs or more: 86.77%\n",
      "Percentage of games 6 runs or more: 75.94%\n",
      "Percentage of games 7 runs or more: 68.59%\n",
      "Percentage of games 8 runs or more: 56.95%\n",
      "Percentage of games 9 runs or more: 49.00%\n",
      "Percentage of games 10 runs or more: 38.49%\n",
      "Percentage of games 11 runs or more: 31.93%\n",
      "Percentage of games 12 runs or more: 24.62%\n",
      "Percentage of games 13 runs or more: 19.70%\n",
      "Percentage of games 14 runs or more: 13.43%\n",
      "Percentage of games 15 runs or more: 9.91%\n",
      "Percentage of games 16 runs or more: 7.43%\n",
      "Percentage of games 17 runs or more: 5.32%\n",
      "Percentage of games 18 runs or more: 3.56%\n",
      "Percentage of games 19 runs or more: 2.32%\n",
      "Percentage of games 20 runs or more: 1.52%\n",
      "Percentage of games 21 runs or more: 1.08%\n",
      "Percentage of games 22 runs or more: 0.68%\n",
      "Percentage of games 23 runs or more: 0.60%\n",
      "Percentage of games 24 runs or more: 0.40%\n",
      "Percentage of games 25 runs or more: 0.32%\n",
      "Percentage of games 26 runs or more: 0.20%\n",
      "Percentage of games 27 runs or more: 0.08%\n"
     ]
    }
   ],
   "source": [
    "\n",
    "total_games = 2502\n",
    "for n in range(1, 28):\n",
    "    games = sqldf(f'''SELECT COUNT(*) from master_set WHERE Total_Runs <= {n}''').iloc[0,0]\n",
    "    #print(f\"for less than or equal to {n} runs the amount of games were: {games.iloc[0,0]} \")\n",
    "    print(f\"Percentage of games {n} runs or less: {((games/total_games)* 100):.2f}%\")\n",
    "\n",
    "for n in range(1, 28):\n",
    "    games = sqldf(f'''SELECT COUNT(*) from master_set WHERE Total_Runs >= {n}''').iloc[0,0]\n",
    "    #print(f\"for greater than or equal to {n} runs the amount of games were: {games.iloc[0,0]} \")\n",
    "    print(f\"Percentage of games {n} runs or more: {((games/total_games)* 100):.2f}%\")"
   ]
  },
  {
   "cell_type": "markdown",
   "metadata": {},
   "source": [
    "In this case, we can now identify the threshold of games where over half of games result in a certain amount of runs. At the time of this run, it appears betting the under for 9 RPG would result in a 51% edge. Lets model what this would look like betting at certain odds. "
   ]
  },
  {
   "cell_type": "code",
   "execution_count": 33,
   "metadata": {},
   "outputs": [
    {
     "name": "stdout",
     "output_type": "stream",
     "text": [
      "Percentage of games 1 runs or less: 1.64%\n"
     ]
    },
    {
     "ename": "NameError",
     "evalue": "name 'odds' is not defined",
     "output_type": "error",
     "traceback": [
      "\u001b[0;31m---------------------------------------------------------------------------\u001b[0m",
      "\u001b[0;31mNameError\u001b[0m                                 Traceback (most recent call last)",
      "Cell \u001b[0;32mIn[33], line 16\u001b[0m\n\u001b[1;32m     13\u001b[0m         payout \u001b[38;5;241m=\u001b[39m (stake \u001b[38;5;241m*\u001b[39m rand_odds) \u001b[38;5;241m/\u001b[39m \u001b[38;5;241m100\u001b[39m\n\u001b[1;32m     14\u001b[0m         bankroll \u001b[38;5;241m=\u001b[39m bankroll \u001b[38;5;241m+\u001b[39m payout\n\u001b[0;32m---> 16\u001b[0m     \u001b[38;5;28mprint\u001b[39m(\u001b[38;5;124mf\u001b[39m\u001b[38;5;124m\"\u001b[39m\u001b[38;5;124mThe resulting bankroll for odds at \u001b[39m\u001b[38;5;132;01m{\u001b[39;00m\u001b[43modds\u001b[49m\u001b[38;5;132;01m}\u001b[39;00m\u001b[38;5;124m and a stake of \u001b[39m\u001b[38;5;132;01m{\u001b[39;00mstake\u001b[38;5;132;01m}\u001b[39;00m\u001b[38;5;124m over \u001b[39m\u001b[38;5;132;01m{\u001b[39;00mtotal_games\u001b[38;5;132;01m}\u001b[39;00m\u001b[38;5;124m games: \u001b[39m\u001b[38;5;132;01m{\u001b[39;00mbankroll\u001b[38;5;132;01m:\u001b[39;00m\u001b[38;5;124m.2f\u001b[39m\u001b[38;5;132;01m}\u001b[39;00m\u001b[38;5;124m\"\u001b[39m)  \n\u001b[1;32m     18\u001b[0m \u001b[38;5;66;03m# for n in range(1, 28):\u001b[39;00m\n\u001b[1;32m     19\u001b[0m \u001b[38;5;66;03m#     games = sqldf(f'''SELECT COUNT(*) from master_set WHERE Total_Runs >= {n}''').iloc[0,0]\u001b[39;00m\n\u001b[1;32m     20\u001b[0m \u001b[38;5;66;03m#     #print(f\"for greater than or equal to {n} runs the amount of games were: {games.iloc[0,0]} \")\u001b[39;00m\n\u001b[1;32m     21\u001b[0m \u001b[38;5;66;03m#     print(f\"Percentage of games {n} runs or more: {((games/total_games)* 100):.2f}%\")\u001b[39;00m\n",
      "\u001b[0;31mNameError\u001b[0m: name 'odds' is not defined"
     ]
    }
   ],
   "source": [
    "odds_l = 100\n",
    "odds_h = 110\n",
    "stake = 1\n",
    "bankroll = 500\n",
    "total_games = 2502\n",
    "\n",
    "for n in range(1, 28):\n",
    "    games = sqldf(f'''SELECT COUNT(*) from master_set WHERE Total_Runs <= {n}''').iloc[0,0]   \n",
    "    print(f\"Percentage of games {n} runs or less: {((games/total_games)* 100):.2f}%\")\n",
    "\n",
    "    for x in range(1, games):\n",
    "        rand_odds = random.randint(odds_l, odds_h)\n",
    "        payout = (stake * rand_odds) / 100\n",
    "        bankroll = bankroll + payout\n",
    "    \n",
    "    print(f\"The resulting bankroll for odds at {odds} and a stake of {stake} over {total_games} games: {bankroll:.2f}\")  \n",
    "\n",
    "# for n in range(1, 28):\n",
    "#     games = sqldf(f'''SELECT COUNT(*) from master_set WHERE Total_Runs >= {n}''').iloc[0,0]\n",
    "#     #print(f\"for greater than or equal to {n} runs the amount of games were: {games.iloc[0,0]} \")\n",
    "#     print(f\"Percentage of games {n} runs or more: {((games/total_games)* 100):.2f}%\")\n"
   ]
  },
  {
   "cell_type": "code",
   "execution_count": 271,
   "metadata": {},
   "outputs": [],
   "source": [
    "master_set.to_csv(f'master_set.csv', sep=',', encoding='utf-8')"
   ]
  }
 ],
 "metadata": {
  "kernelspec": {
   "display_name": "venv",
   "language": "python",
   "name": "python3"
  },
  "language_info": {
   "codemirror_mode": {
    "name": "ipython",
    "version": 3
   },
   "file_extension": ".py",
   "mimetype": "text/x-python",
   "name": "python",
   "nbconvert_exporter": "python",
   "pygments_lexer": "ipython3",
   "version": "3.12.3"
  }
 },
 "nbformat": 4,
 "nbformat_minor": 2
}
