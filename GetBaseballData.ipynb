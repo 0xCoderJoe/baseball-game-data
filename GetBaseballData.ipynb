{
 "cells": [
  {
   "cell_type": "code",
   "execution_count": 51,
   "metadata": {},
   "outputs": [],
   "source": [
    "from pybaseball import schedule_and_record\n",
    "from pandasql import sqldf\n",
    "import pandas as pd\n",
    "import matplotlib.pyplot as plt\n",
    "import glob\n",
    "import os\n",
    "import warnings\n",
    "import random\n",
    "warnings.simplefilter(action='ignore', category=FutureWarning)\n",
    "\n",
    "REFRESH_DATA = 0 # set to 1 to pull new data, otherwise leave 0\n",
    "DATA_DIR = \"2024_mlb_team_game_logs\""
   ]
  },
  {
   "cell_type": "markdown",
   "metadata": {},
   "source": [
    "First we define the list of MLB teams by three letter code on baseball-reference.com"
   ]
  },
  {
   "cell_type": "code",
   "execution_count": 52,
   "metadata": {},
   "outputs": [],
   "source": [
    "mlb_teams = [\n",
    "    \"BAL\", \"BOS\", \"CHW\", \"CLE\", \"DET\", \"HOU\", \"KC\", \"LAA\", \"MIN\", \"NYY\", \"OAK\", \"SEA\", \"TBR\", \"TEX\", \"TOR\",\n",
    "    \"ARI\", \"ATL\", \"CHC\", \"CIN\", \"COL\", \"MIA\", \"MIL\", \"NYM\", \"PHI\", \"PIT\", \"SDP\", \"SFG\", \"STL\", \"WSN\"\n",
    "]"
   ]
  },
  {
   "cell_type": "markdown",
   "metadata": {},
   "source": [
    "Next, we pull down fresh data locally to work with but only if we set REFRESH_DATA to True."
   ]
  },
  {
   "cell_type": "code",
   "execution_count": 53,
   "metadata": {},
   "outputs": [],
   "source": [
    "if REFRESH_DATA == 1:\n",
    "    for team in mlb_teams:\n",
    "        data = schedule_and_record(2024, team)\n",
    "        data.to_csv(f\"{DATA_DIR}/{team}.csv\", sep=',', encoding=\"utf-8\")"
   ]
  },
  {
   "cell_type": "markdown",
   "metadata": {},
   "source": [
    "After, we read the databack in and prepare to shape it for our analysis"
   ]
  },
  {
   "cell_type": "code",
   "execution_count": 54,
   "metadata": {},
   "outputs": [],
   "source": [
    "\n",
    "path = f'{DATA_DIR}/' # use your path\n",
    "all_files = glob.glob(os.path.join(path , \"*.csv\"))\n",
    "\n",
    "li = []\n",
    "\n",
    "for filename in all_files:\n",
    "    df = pd.read_csv(filename, index_col=None, header=0)\n",
    "    li.append(df)\n",
    "\n",
    "df = pd.concat(li, axis=0, ignore_index=True)"
   ]
  },
  {
   "cell_type": "markdown",
   "metadata": {},
   "source": [
    "Drop all unceessary columns for our data application."
   ]
  },
  {
   "cell_type": "code",
   "execution_count": 55,
   "metadata": {},
   "outputs": [],
   "source": [
    "df = df.drop(columns=[\"Unnamed: 0\", \"GB\", \"Win\", \"Opp\", \"Loss\", \"RA\", \"Save\", \"W-L\", \"W/L\", \"D/N\", \"cLI\", \"Streak\",\"Rank\", \"Inn\", \"Orig. Scheduled\"])"
   ]
  },
  {
   "cell_type": "markdown",
   "metadata": {},
   "source": [
    "Locate all the duplicate entries since this is the output for all teams."
   ]
  },
  {
   "cell_type": "code",
   "execution_count": 56,
   "metadata": {},
   "outputs": [],
   "source": [
    "duplicates = df[df.duplicated(subset=['Date', 'Attendance'])]"
   ]
  },
  {
   "cell_type": "markdown",
   "metadata": {},
   "source": [
    "Now that we have our duplicate fields, we need to rename them and get them ready to merge back into `df`"
   ]
  },
  {
   "cell_type": "code",
   "execution_count": 57,
   "metadata": {},
   "outputs": [
    {
     "data": {
      "text/plain": [
       "(5472, 9)"
      ]
     },
     "execution_count": 57,
     "metadata": {},
     "output_type": "execute_result"
    }
   ],
   "source": [
    "all_data = pd.merge(df, duplicates, how=\"outer\", on=[\"Attendance\", \"Date\", \"Time\"])\n",
    "all_data.shape"
   ]
  },
  {
   "cell_type": "markdown",
   "metadata": {},
   "source": [
    "Perform cleanup actions on the newly merged data set."
   ]
  },
  {
   "cell_type": "code",
   "execution_count": 58,
   "metadata": {},
   "outputs": [],
   "source": [
    "all_data.drop(all_data.index[all_data['Tm_x'] == all_data['Tm_y']], inplace=True)\n",
    "all_data = all_data.dropna(subset=[\"Attendance\"])\n",
    "\n",
    "all_data['Total_Runs'] = all_data['R_x'] + all_data['R_y']\n",
    "\n",
    "all_data = all_data[['Date', 'Tm_x', 'Home_Away_x', 'R_x', 'Tm_y', 'Home_Away_y', 'R_y', 'Total_Runs', 'Time', 'Attendance']]\n",
    "all_data = all_data.sort_values(by=['Date'])\n",
    "all_data = all_data.reset_index(drop=True)"
   ]
  },
  {
   "cell_type": "markdown",
   "metadata": {},
   "source": [
    "Now that's great, lets create some graphs"
   ]
  },
  {
   "cell_type": "code",
   "execution_count": 59,
   "metadata": {},
   "outputs": [
    {
     "data": {
      "image/png": "[encoded data removed]",
      "text/plain": [
       "<Figure size 640x480 with 1 Axes>"
      ]
     },
     "metadata": {},
     "output_type": "display_data"
    }
   ],
   "source": [
    "\n",
    "ax = all_data['Total_Runs'].value_counts()\n",
    "ax = ax.sort_index()\n",
    "ax = ax.plot(kind='bar')"
   ]
  },
  {
   "cell_type": "markdown",
   "metadata": {},
   "source": [
    "At this point, we have enough data to determine what games have ended in each number of total runs. \n",
    "\n",
    "One potential way we could use this data is to prospect betting lines offing favorable over/under odds for the total runs market."
   ]
  },
  {
   "cell_type": "code",
   "execution_count": 60,
   "metadata": {},
   "outputs": [
    {
     "name": "stdout",
     "output_type": "stream",
     "text": [
      "Percentage of games 1 runs or less: 1.62%\n",
      "Percentage of games 2 runs or less: 3.55%\n",
      "Percentage of games 3 runs or less: 9.85%\n",
      "Percentage of games 4 runs or less: 15.06%\n",
      "Percentage of games 5 runs or less: 25.56%\n",
      "Percentage of games 6 runs or less: 32.69%\n",
      "Percentage of games 7 runs or less: 44.21%\n",
      "Percentage of games 8 runs or less: 51.94%\n",
      "Percentage of games 9 runs or less: 62.25%\n",
      "Percentage of games 10 runs or less: 68.63%\n",
      "Percentage of games 11 runs or less: 75.80%\n",
      "Percentage of games 12 runs or less: 80.48%\n",
      "Percentage of games 13 runs or less: 86.52%\n",
      "Percentage of games 14 runs or less: 89.96%\n",
      "Percentage of games 15 runs or less: 92.34%\n",
      "Percentage of games 16 runs or less: 94.38%\n",
      "Percentage of games 17 runs or less: 96.07%\n",
      "Percentage of games 18 runs or less: 97.28%\n",
      "Percentage of games 19 runs or less: 98.04%\n",
      "Percentage of games 20 runs or less: 98.49%\n",
      "Percentage of games 21 runs or less: 98.87%\n",
      "Percentage of games 22 runs or less: 98.94%\n",
      "Percentage of games 23 runs or less: 99.13%\n",
      "Percentage of games 24 runs or less: 99.21%\n",
      "Percentage of games 25 runs or less: 99.32%\n",
      "Percentage of games 26 runs or less: 99.43%\n",
      "Percentage of games 1 runs or more: 99.51%\n",
      "Percentage of games 2 runs or more: 97.89%\n",
      "Percentage of games 3 runs or more: 95.96%\n",
      "Percentage of games 4 runs or more: 89.66%\n",
      "Percentage of games 5 runs or more: 84.45%\n",
      "Percentage of games 6 runs or more: 73.95%\n",
      "Percentage of games 7 runs or more: 66.82%\n",
      "Percentage of games 8 runs or more: 55.30%\n",
      "Percentage of games 9 runs or more: 47.57%\n",
      "Percentage of games 10 runs or more: 37.26%\n",
      "Percentage of games 11 runs or more: 30.88%\n",
      "Percentage of games 12 runs or more: 23.71%\n",
      "Percentage of games 13 runs or more: 19.03%\n",
      "Percentage of games 14 runs or more: 12.99%\n",
      "Percentage of games 15 runs or more: 9.55%\n",
      "Percentage of games 16 runs or more: 7.17%\n",
      "Percentage of games 17 runs or more: 5.13%\n",
      "Percentage of games 18 runs or more: 3.44%\n",
      "Percentage of games 19 runs or more: 2.23%\n",
      "Percentage of games 20 runs or more: 1.47%\n",
      "Percentage of games 21 runs or more: 1.02%\n",
      "Percentage of games 22 runs or more: 0.64%\n",
      "Percentage of games 23 runs or more: 0.57%\n",
      "Percentage of games 24 runs or more: 0.38%\n",
      "Percentage of games 25 runs or more: 0.30%\n",
      "Percentage of games 26 runs or more: 0.19%\n"
     ]
    }
   ],
   "source": [
    "\n",
    "total_games = len(all_data.index)\n",
    "max_runs = int(all_data['Total_Runs'].max())\n",
    "min_runs = int(all_data['Total_Runs'].min())\n",
    "\n",
    "for n in range(min_runs, max_runs):\n",
    "    games = sqldf(f'''SELECT COUNT(*) from all_data WHERE Total_Runs <= {n}''').iloc[0,0]\n",
    "    print(f\"Percentage of games {n} runs or less: {((games/total_games)* 100):.2f}%\")\n",
    "\n",
    "for n in range(min_runs, max_runs):\n",
    "    games = sqldf(f'''SELECT COUNT(*) from all_data WHERE Total_Runs >= {n}''').iloc[0,0]\n",
    "    print(f\"Percentage of games {n} runs or more: {((games/total_games)* 100):.2f}%\")"
   ]
  },
  {
   "cell_type": "markdown",
   "metadata": {},
   "source": [
    "The results should reveal a specific number of total runs in a game that we may opt to monitor sportsbooks for market innefficiencies. I.e for example, if 54% of games end in 8 runs or more we may look for lines that are offering +101 or more to gain a slight edge. Albit a small one. \n",
    "\n",
    "Next, we can model what it might look like if we hypothetically bet on every game at a random line between -101 and 101. Note: this is not a great way to model but it gets the point across. \n",
    "\n"
   ]
  },
  {
   "cell_type": "code",
   "execution_count": null,
   "metadata": {},
   "outputs": [
    {
     "name": "stdout",
     "output_type": "stream",
     "text": [
      "Percentage of games 1 runs or less: 1.62%\n",
      "The resulting bankroll for odds between -102/102 and a stake of 1 across 2649 games: 497.71\n",
      "Percentage of games 2 runs or less: 3.55%\n",
      "The resulting bankroll for odds between -102/102 and a stake of 1 across 2649 games: 495.08\n",
      "Percentage of games 3 runs or less: 9.85%\n",
      "The resulting bankroll for odds between -102/102 and a stake of 1 across 2649 games: 503.59\n",
      "Percentage of games 4 runs or less: 15.06%\n",
      "The resulting bankroll for odds between -102/102 and a stake of 1 across 2649 games: 509.36\n",
      "Percentage of games 5 runs or less: 25.56%\n",
      "The resulting bankroll for odds between -102/102 and a stake of 1 across 2649 games: 502.59\n",
      "Percentage of games 6 runs or less: 32.69%\n",
      "The resulting bankroll for odds between -102/102 and a stake of 1 across 2649 games: 492.01\n",
      "Percentage of games 7 runs or less: 44.21%\n",
      "The resulting bankroll for odds between -102/102 and a stake of 1 across 2649 games: 496.43\n",
      "Percentage of games 8 runs or less: 51.94%\n",
      "The resulting bankroll for odds between -102/102 and a stake of 1 across 2649 games: 512.76\n",
      "Percentage of games 9 runs or less: 62.25%\n",
      "The resulting bankroll for odds between -102/102 and a stake of 1 across 2649 games: 516.47\n",
      "Percentage of games 10 runs or less: 68.63%\n",
      "The resulting bankroll for odds between -102/102 and a stake of 1 across 2649 games: 503.29\n",
      "Percentage of games 11 runs or less: 75.80%\n",
      "The resulting bankroll for odds between -102/102 and a stake of 1 across 2649 games: 512.44\n",
      "Percentage of games 12 runs or less: 80.48%\n",
      "The resulting bankroll for odds between -102/102 and a stake of 1 across 2649 games: 540.76\n",
      "Percentage of games 13 runs or less: 86.52%\n",
      "The resulting bankroll for odds between -102/102 and a stake of 1 across 2649 games: 581.89\n",
      "Percentage of games 14 runs or less: 89.96%\n",
      "The resulting bankroll for odds between -102/102 and a stake of 1 across 2649 games: 575.66\n",
      "Percentage of games 15 runs or less: 92.34%\n",
      "The resulting bankroll for odds between -102/102 and a stake of 1 across 2649 games: 603.84\n",
      "Percentage of games 16 runs or less: 94.38%\n",
      "The resulting bankroll for odds between -102/102 and a stake of 1 across 2649 games: 590.09\n",
      "Percentage of games 17 runs or less: 96.07%\n",
      "The resulting bankroll for odds between -102/102 and a stake of 1 across 2649 games: 611.31\n",
      "Percentage of games 18 runs or less: 97.28%\n",
      "The resulting bankroll for odds between -102/102 and a stake of 1 across 2649 games: 568.08\n",
      "Percentage of games 19 runs or less: 98.04%\n",
      "The resulting bankroll for odds between -102/102 and a stake of 1 across 2649 games: 582.26\n",
      "Percentage of games 20 runs or less: 98.49%\n",
      "The resulting bankroll for odds between -102/102 and a stake of 1 across 2649 games: 579.39\n",
      "Percentage of games 21 runs or less: 98.87%\n",
      "The resulting bankroll for odds between -102/102 and a stake of 1 across 2649 games: 567.17\n",
      "Percentage of games 22 runs or less: 98.94%\n",
      "The resulting bankroll for odds between -102/102 and a stake of 1 across 2649 games: 531.39\n",
      "Percentage of games 23 runs or less: 99.13%\n",
      "The resulting bankroll for odds between -102/102 and a stake of 1 across 2649 games: 521.06\n",
      "Percentage of games 24 runs or less: 99.21%\n",
      "The resulting bankroll for odds between -102/102 and a stake of 1 across 2649 games: 457.03\n",
      "Percentage of games 25 runs or less: 99.32%\n",
      "The resulting bankroll for odds between -102/102 and a stake of 1 across 2649 games: 399.33\n",
      "Percentage of games 26 runs or less: 99.43%\n",
      "The resulting bankroll for odds between -102/102 and a stake of 1 across 2649 games: 439.76\n",
      "Percentage of games 27 runs or less: 99.51%\n",
      "The resulting bankroll for odds between -102/102 and a stake of 1 across 2649 games: 461.52\n",
      "Percentage of games 1 runs or more: 99.51%\n",
      "The resulting bankroll for odds between -102/102 and a stake of 1 across 2649 games: 419.15\n",
      "Percentage of games 2 runs or more: 97.89%\n",
      "The resulting bankroll for odds between -102/102 and a stake of 1 across 2649 games: 443.64\n",
      "Percentage of games 3 runs or more: 95.96%\n",
      "The resulting bankroll for odds between -102/102 and a stake of 1 across 2649 games: 431.77\n",
      "Percentage of games 4 runs or more: 89.66%\n",
      "The resulting bankroll for odds between -102/102 and a stake of 1 across 2649 games: 449.13\n",
      "Percentage of games 5 runs or more: 84.45%\n",
      "The resulting bankroll for odds between -102/102 and a stake of 1 across 2649 games: 438.31\n",
      "Percentage of games 6 runs or more: 73.95%\n",
      "The resulting bankroll for odds between -102/102 and a stake of 1 across 2649 games: 404.54\n",
      "Percentage of games 7 runs or more: 66.82%\n",
      "The resulting bankroll for odds between -102/102 and a stake of 1 across 2649 games: 407.05\n",
      "Percentage of games 8 runs or more: 55.30%\n",
      "The resulting bankroll for odds between -102/102 and a stake of 1 across 2649 games: 413.04\n",
      "Percentage of games 9 runs or more: 47.57%\n",
      "The resulting bankroll for odds between -102/102 and a stake of 1 across 2649 games: 389.92\n",
      "Percentage of games 10 runs or more: 37.26%\n",
      "The resulting bankroll for odds between -102/102 and a stake of 1 across 2649 games: 405.58\n",
      "Percentage of games 11 runs or more: 30.88%\n",
      "The resulting bankroll for odds between -102/102 and a stake of 1 across 2649 games: 365.21\n",
      "Percentage of games 12 runs or more: 23.71%\n",
      "The resulting bankroll for odds between -102/102 and a stake of 1 across 2649 games: 353.20\n",
      "Percentage of games 13 runs or more: 19.03%\n",
      "The resulting bankroll for odds between -102/102 and a stake of 1 across 2649 games: 357.22\n",
      "Percentage of games 14 runs or more: 12.99%\n",
      "The resulting bankroll for odds between -102/102 and a stake of 1 across 2649 games: 357.90\n",
      "Percentage of games 15 runs or more: 9.55%\n",
      "The resulting bankroll for odds between -102/102 and a stake of 1 across 2649 games: 352.78\n",
      "Percentage of games 16 runs or more: 7.17%\n",
      "The resulting bankroll for odds between -102/102 and a stake of 1 across 2649 games: 358.68\n",
      "Percentage of games 17 runs or more: 5.13%\n",
      "The resulting bankroll for odds between -102/102 and a stake of 1 across 2649 games: 352.64\n",
      "Percentage of games 18 runs or more: 3.44%\n",
      "The resulting bankroll for odds between -102/102 and a stake of 1 across 2649 games: 349.54\n",
      "Percentage of games 19 runs or more: 2.23%\n",
      "The resulting bankroll for odds between -102/102 and a stake of 1 across 2649 games: 351.55\n",
      "Percentage of games 20 runs or more: 1.47%\n",
      "The resulting bankroll for odds between -102/102 and a stake of 1 across 2649 games: 346.62\n",
      "Percentage of games 21 runs or more: 1.02%\n",
      "The resulting bankroll for odds between -102/102 and a stake of 1 across 2649 games: 346.92\n",
      "Percentage of games 22 runs or more: 0.64%\n",
      "The resulting bankroll for odds between -102/102 and a stake of 1 across 2649 games: 344.34\n",
      "Percentage of games 23 runs or more: 0.57%\n",
      "The resulting bankroll for odds between -102/102 and a stake of 1 across 2649 games: 341.95\n",
      "Percentage of games 24 runs or more: 0.38%\n",
      "The resulting bankroll for odds between -102/102 and a stake of 1 across 2649 games: 344.81\n",
      "Percentage of games 25 runs or more: 0.30%\n",
      "The resulting bankroll for odds between -102/102 and a stake of 1 across 2649 games: 344.75\n",
      "Percentage of games 26 runs or more: 0.19%\n",
      "The resulting bankroll for odds between -102/102 and a stake of 1 across 2649 games: 344.83\n",
      "Percentage of games 27 runs or more: 0.08%\n",
      "The resulting bankroll for odds between -102/102 and a stake of 1 across 2649 games: 344.02\n"
     ]
    }
   ],
   "source": [
    "odds_l = -102\n",
    "odds_h = 102\n",
    "stake = 1\n",
    "bankroll = 500\n",
    "\n",
    "# recall that total_games is defined above\n",
    "for n in range(min_runs, max_runs):\n",
    "    games = sqldf(f'''SELECT COUNT(*) from all_data WHERE Total_Runs <= {n}''').iloc[0,0]   \n",
    "    print(f\"Percentage of games {n} runs or less: {((games/total_games)* 100):.2f}%\") \n",
    "\n",
    "    for x in range(1, games):\n",
    "        rand_odds = random.randint(odds_l, odds_h)\n",
    "        payout = (stake * rand_odds) / 100\n",
    "        bankroll = bankroll + payout\n",
    "    \n",
    "    print(f\"The resulting bankroll for odds between {odds_l}/{odds_h} and a stake of {stake} across {total_games} games: {bankroll:.2f}\")  \n",
    "\n",
    "\n",
    "for n in range(min_runs, max_runs):\n",
    "    games = sqldf(f'''SELECT COUNT(*) from all_data WHERE Total_Runs >= {n}''').iloc[0,0]   \n",
    "    print(f\"Percentage of games {n} runs or more: {((games/total_games)* 100):.2f}%\") \n",
    "\n",
    "    for x in range(1, games):\n",
    "        rand_odds = random.randint(odds_l, odds_h)\n",
    "        payout = (stake * rand_odds) / 100\n",
    "        bankroll = bankroll + payout\n",
    "    \n",
    "    print(f\"The resulting bankroll for odds between {odds_l}/{odds_h} and a stake of {stake} across {total_games} games: {bankroll:.2f}\")  \n"
   ]
  },
  {
   "cell_type": "markdown",
   "metadata": {},
   "source": [
    "Write our results to CSV incase we want them later"
   ]
  },
  {
   "cell_type": "code",
   "execution_count": null,
   "metadata": {},
   "outputs": [],
   "source": [
    "all_data.to_csv(f'{DATA_DIR}/all_data.csv', sep=',', encoding='utf-8')"
   ]
  }
 ],
 "metadata": {
  "kernelspec": {
   "display_name": "venv",
   "language": "python",
   "name": "python3"
  },
  "language_info": {
   "codemirror_mode": {
    "name": "ipython",
    "version": 3
   },
   "file_extension": ".py",
   "mimetype": "text/x-python",
   "name": "python",
   "nbconvert_exporter": "python",
   "pygments_lexer": "ipython3",
   "version": "3.12.3"
  }
 },
 "nbformat": 4,
 "nbformat_minor": 2
}
