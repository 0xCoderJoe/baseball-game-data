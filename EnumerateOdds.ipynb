{
 "cells": [
  {
   "cell_type": "code",
   "execution_count": 16,
   "metadata": {},
   "outputs": [],
   "source": [
    "from dotenv import load_dotenv\n",
    "import requests\n",
    "requests.packages.urllib3.disable_warnings()\n",
    "import pandas as pd\n",
    "import json\n",
    "import os\n",
    "\n",
    "load_dotenv()\n",
    "\n",
    "url = os.getenv(\"FANDUEL_URL\")\n",
    "token = os.getenv(\"FANDUEL_TOKEN\")\n",
    "headers = {\"User-Agent\": \"Mozilla/5.0 (Macintosh; Intel Mac OS X 10_15_7) AppleWebKit/537.36 (KHTML, like Gecko) Chrome/128.0.0.0 Safari/537.36\",\n",
    "           \"Authorization\": f\"Bearer {token}\" \n",
    "}\n",
    "\n",
    "with open ('cookie.json', 'r') as cookie_file:\n",
    "    cookie = json.load(cookie_file)\n",
    "\n",
    "session = requests.Session()\n",
    "\n",
    "r = requests.get(url, headers=headers, cookies=cookie, verify=False).json()\n"
   ]
  },
  {
   "cell_type": "markdown",
   "metadata": {},
   "source": [
    "Now that we have the latest odds from fanduel, we need to traverse the JSON structure to find the market we need.\n",
    "\n",
    "We will focus on the alternative runline market.\n",
    "\n",
    "We will get the data from Fanduel and transform it into a Pandas dataframe"
   ]
  },
  {
   "cell_type": "code",
   "execution_count": 17,
   "metadata": {},
   "outputs": [],
   "source": [
    "markets = [x for x in r['attachments']['markets']]\n",
    "\n",
    "data = []\n",
    "\n",
    "for market in markets:\n",
    "    x = r['attachments']['markets'][market]\n",
    "\n",
    "    if x['marketName'] == \"Total Runs\":\n",
    "        event_id = x['eventId']\n",
    "        event_name = r['attachments']['events'][str(event_id)]['name']\n",
    "        \n",
    "        under = [x for x in x['runners'] if x['runnerName']=='Under'][0]\n",
    "        under_odds = {\"type\": under['runnerName'],\n",
    "                      \"handicap\": under['handicap'],\n",
    "                      \"odds\": under['winRunnerOdds']['americanDisplayOdds']['americanOdds']}\n",
    "        \n",
    "        over = [x for x in x['runners'] if x['runnerName']=='Over'][0]\n",
    "        over_odds = {\"type\": over['runnerName'],\n",
    "                     \"handicap\": over['handicap'],\n",
    "                     \"odds\": over['winRunnerOdds']['americanDisplayOdds']['americanOdds']}\n",
    "        \n",
    "        event_data = {\n",
    "            \"event_name\": event_name,\n",
    "            \"event_id\": event_id,\n",
    "            \"type\": \"total runs\",\n",
    "            \"under_handicap\": under_odds['handicap'],\n",
    "            \"under_odds\": under_odds['odds'],\n",
    "            \"over_handicap\": over_odds['handicap'],\n",
    "            \"over_odds\": over_odds['odds'] \n",
    "        }\n",
    "\n",
    "        data.append(event_data)"
   ]
  },
  {
   "cell_type": "markdown",
   "metadata": {},
   "source": [
    "Now we can work with the data in Pandas"
   ]
  },
  {
   "cell_type": "code",
   "execution_count": 18,
   "metadata": {},
   "outputs": [
    {
     "name": "stdout",
     "output_type": "stream",
     "text": [
      "                                           event_name  event_id        type  \\\n",
      "0   Pittsburgh Pirates (J Jones) @ New York Yankee...  33632085  total runs   \n",
      "1   Philadelphia Phillies (Z Wheeler) @ Washington...  33635510  total runs   \n",
      "2   Los Angeles Dodgers (Y Yamamoto) @ Colorado Ro...  33635515  total runs   \n",
      "3   Cincinnati Reds (R Lowder) @ Chicago Cubs (K H...  33635509  total runs   \n",
      "4   Houston Astros (R Blanco) @ Cleveland Guardian...  33632079  total runs   \n",
      "5   Oakland Athletics (J Sears) @ Seattle Mariners...  33632084  total runs   \n",
      "6   St. Louis Cardinals (M Mikolas) @ San Francisc...  33632078  total runs   \n",
      "7   Baltimore Orioles (C Povich) @ Minnesota Twins...  33632082  total runs   \n",
      "8   Miami Marlins (A Oller) @ Toronto Blue Jays (J...  33632086  total runs   \n",
      "9   Philadelphia Phillies (R Suarez) @ Washington ...  33632075  total runs   \n",
      "10  Los Angeles Dodgers (R Brasier) @ Colorado Roc...  33632077  total runs   \n",
      "11  St. Louis Cardinals (A Pallante) @ San Francis...  33635511  total runs   \n",
      "12  Chicago White Sox (G Crochet) @ Detroit Tigers...  33632080  total runs   \n",
      "13  Tampa Bay Rays (S Baz) @ Boston Red Sox (K Cra...  33635522  total runs   \n",
      "14  Pittsburgh Pirates (P Skenes) @ New York Yanke...  33635526  total runs   \n",
      "15  Texas Rangers (A Heaney) @ Los Angeles Angels ...  33635523  total runs   \n",
      "16  New York Mets (S Manaea) @ Milwaukee Brewers (...  33632076  total runs   \n",
      "17  Tampa Bay Rays (T Bradley) @ Boston Red Sox (N...  33632081  total runs   \n",
      "18  Texas Rangers (J deGrom) @ Los Angeles Angels ...  33632083  total runs   \n",
      "19  Houston Astros (J Verlander) @ Cleveland Guard...  33635519  total runs   \n",
      "20  San Diego Padres (Y Darvish) @ Arizona Diamond...  33632070  total runs   \n",
      "21  Kansas City Royals (B Singer) @ Atlanta Braves...  33632087  total runs   \n",
      "\n",
      "    under_handicap  under_odds  over_handicap  over_odds  \n",
      "0              5.5         100            5.5       -130  \n",
      "1              7.5        -104            7.5       -118  \n",
      "2             11.0        -110           11.0       -110  \n",
      "3              7.0        -105            7.0       -115  \n",
      "4              7.5         106            7.5       -138  \n",
      "5              7.5        -122            7.5        100  \n",
      "6              7.5        -122            7.5        100  \n",
      "7              8.0        -105            8.0       -115  \n",
      "8             11.5        -110           11.5       -118  \n",
      "9             10.5         106           10.5       -138  \n",
      "10            11.0        -110           11.0       -110  \n",
      "11             7.0        -120            7.0       -102  \n",
      "12             3.5        -140            3.5        110  \n",
      "13             8.0        -105            8.0       -115  \n",
      "14             7.5        -118            7.5       -104  \n",
      "15             8.5        -110            8.5       -110  \n",
      "16             7.5        -105            7.5       -115  \n",
      "17             5.5        -130            5.5        100  \n",
      "18             7.5        -120            7.5       -102  \n",
      "19             8.5        -124            8.5        102  \n",
      "20             8.5         100            8.5       -122  \n",
      "21             5.5        -110            5.5       -118  \n"
     ]
    }
   ],
   "source": [
    "tr_df = pd.DataFrame.from_records(data=data)\n",
    "print(tr_df)"
   ]
  },
  {
   "cell_type": "markdown",
   "metadata": {},
   "source": []
  }
 ],
 "metadata": {
  "kernelspec": {
   "display_name": "venv",
   "language": "python",
   "name": "python3"
  },
  "language_info": {
   "codemirror_mode": {
    "name": "ipython",
    "version": 3
   },
   "file_extension": ".py",
   "mimetype": "text/x-python",
   "name": "python",
   "nbconvert_exporter": "python",
   "pygments_lexer": "ipython3",
   "version": "3.12.3"
  }
 },
 "nbformat": 4,
 "nbformat_minor": 2
}
